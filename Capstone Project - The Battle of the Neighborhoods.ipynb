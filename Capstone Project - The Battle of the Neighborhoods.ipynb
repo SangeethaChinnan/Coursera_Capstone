{
 "cells": [
  {
   "cell_type": "markdown",
   "metadata": {},
   "source": [
    "# Capstone Project - The Battle of the Neighborhoods (Week 1)\n",
    "### Applied Data Science Capstone by IBM/Coursera"
   ]
  },
  {
   "cell_type": "markdown",
   "metadata": {},
   "source": [
    "## Table of contents\n",
    "* [Introduction: Business Problem](#introduction)\n",
    "* [Data](#data)"
   ]
  },
  {
   "cell_type": "markdown",
   "metadata": {},
   "source": [
    "\n",
    "## Introduction: Business Problem <a name=\"introduction\"></a>"
   ]
  },
  {
   "cell_type": "markdown",
   "metadata": {},
   "source": [
    "In this project we will try to find an optimal location for a affordable housing project. Specifically, this report will be targeted to stakeholders interested in building a housing project in and around the **Bay Area** counties in **California**, United States.\n",
    "\n",
    "Since there are lots of housing projects in the Bay Area we will try to detect the locations **that has affordable house sales price. And the area should have close proximity to the resturants or venues**. \n",
    "\n",
    "We will be using data science to generate a few most promissing cities based on these criteria. "
   ]
  },
  {
   "cell_type": "markdown",
   "metadata": {},
   "source": [
    "## Data "
   ]
  },
  {
   "cell_type": "markdown",
   "metadata": {},
   "source": [
    "To consider the problem we can list the data we needed as:\n",
    "* number of existing venues in the city\n",
    "* Get the average house sales price per county\n",
    "\n",
    "\n",
    "Data Sources\n",
    "\n",
    "* We will be using the data available publicly from California Open Data Portal for the county boundaries. And will be using choropleth map to visualize.\n",
    "* We will be using **Foursquare API** to get the venue details per city in California.\n",
    "* coordinates of each of these cities will be obtained using **geopy**"
   ]
  },
  {
   "cell_type": "code",
   "execution_count": null,
   "metadata": {},
   "outputs": [],
   "source": []
  }
 ],
 "metadata": {
  "kernelspec": {
   "display_name": "Python 3",
   "language": "python",
   "name": "python3"
  },
  "language_info": {
   "codemirror_mode": {
    "name": "ipython",
    "version": 3
   },
   "file_extension": ".py",
   "mimetype": "text/x-python",
   "name": "python",
   "nbconvert_exporter": "python",
   "pygments_lexer": "ipython3",
   "version": "3.8.5"
  }
 },
 "nbformat": 4,
 "nbformat_minor": 4
}
